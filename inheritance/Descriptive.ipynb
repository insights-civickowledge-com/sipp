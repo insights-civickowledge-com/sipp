{
 "cells": [
  {
   "cell_type": "code",
   "execution_count": 1,
   "metadata": {},
   "outputs": [],
   "source": [
    "%matplotlib inline\n",
    "import pandas as pd\n",
    "import numpy as np\n",
    "import metapack as mp\n",
    "from pathlib import Path\n",
    "from statsmodels.formula.api import ols\n",
    "import seaborn as sns\n",
    "import matplotlib.pyplot as plt\n",
    "\n",
    "# /Users/eric/opt/anaconda3/envs/data/lib/python3.7/site-packages/pandas/plotting/_tools.py:307: MatplotlibDeprecationWarning: \n",
    "# The rowNum attribute was deprecated in Matplotlib 3.2 and will be removed two minor releases later. Use ax.get_subplotspec().rowspan.start instead.\n",
    "#   layout[ax.rowNum, ax.colNum] = ax.get_visible()\n",
    "import warnings\n",
    "warnings.simplefilter(\"ignore\")\n",
    "\n",
    "sns.set()\n",
    "\n",
    "%run ./lib.py"
   ]
  },
  {
   "cell_type": "code",
   "execution_count": null,
   "metadata": {},
   "outputs": [],
   "source": []
  },
  {
   "cell_type": "code",
   "execution_count": 2,
   "metadata": {},
   "outputs": [
    {
     "data": {
      "text/html": [
       "<div>\n",
       "<style scoped>\n",
       "    .dataframe tbody tr th:only-of-type {\n",
       "        vertical-align: middle;\n",
       "    }\n",
       "\n",
       "    .dataframe tbody tr th {\n",
       "        vertical-align: top;\n",
       "    }\n",
       "\n",
       "    .dataframe thead th {\n",
       "        text-align: right;\n",
       "    }\n",
       "</style>\n",
       "<table border=\"1\" class=\"dataframe\">\n",
       "  <thead>\n",
       "    <tr style=\"text-align: right;\">\n",
       "      <th></th>\n",
       "      <th>0</th>\n",
       "      <th>1</th>\n",
       "      <th>2</th>\n",
       "      <th>3</th>\n",
       "      <th>4</th>\n",
       "    </tr>\n",
       "  </thead>\n",
       "  <tbody>\n",
       "    <tr>\n",
       "      <th>case_id</th>\n",
       "      <td>1</td>\n",
       "      <td>1</td>\n",
       "      <td>1</td>\n",
       "      <td>1</td>\n",
       "      <td>1</td>\n",
       "    </tr>\n",
       "    <tr>\n",
       "      <th>record_id</th>\n",
       "      <td>11</td>\n",
       "      <td>12</td>\n",
       "      <td>13</td>\n",
       "      <td>14</td>\n",
       "      <td>15</td>\n",
       "    </tr>\n",
       "    <tr>\n",
       "      <th>implicate_id</th>\n",
       "      <td>1</td>\n",
       "      <td>2</td>\n",
       "      <td>3</td>\n",
       "      <td>4</td>\n",
       "      <td>5</td>\n",
       "    </tr>\n",
       "    <tr>\n",
       "      <th>age_1</th>\n",
       "      <td>71</td>\n",
       "      <td>71</td>\n",
       "      <td>71</td>\n",
       "      <td>71</td>\n",
       "      <td>71</td>\n",
       "    </tr>\n",
       "    <tr>\n",
       "      <th>age_2</th>\n",
       "      <td>0</td>\n",
       "      <td>0</td>\n",
       "      <td>0</td>\n",
       "      <td>0</td>\n",
       "      <td>0</td>\n",
       "    </tr>\n",
       "    <tr>\n",
       "      <th>hisp</th>\n",
       "      <td>5</td>\n",
       "      <td>5</td>\n",
       "      <td>5</td>\n",
       "      <td>5</td>\n",
       "      <td>5</td>\n",
       "    </tr>\n",
       "    <tr>\n",
       "      <th>race</th>\n",
       "      <td>white</td>\n",
       "      <td>white</td>\n",
       "      <td>white</td>\n",
       "      <td>white</td>\n",
       "      <td>white</td>\n",
       "    </tr>\n",
       "    <tr>\n",
       "      <th>addtional_race</th>\n",
       "      <td>5</td>\n",
       "      <td>5</td>\n",
       "      <td>5</td>\n",
       "      <td>5</td>\n",
       "      <td>5</td>\n",
       "    </tr>\n",
       "    <tr>\n",
       "      <th>unusual_income</th>\n",
       "      <td>3</td>\n",
       "      <td>3</td>\n",
       "      <td>3</td>\n",
       "      <td>3</td>\n",
       "      <td>3</td>\n",
       "    </tr>\n",
       "    <tr>\n",
       "      <th>ed_1</th>\n",
       "      <td>assoc_vocational</td>\n",
       "      <td>assoc_vocational</td>\n",
       "      <td>assoc_vocational</td>\n",
       "      <td>assoc_vocational</td>\n",
       "      <td>assoc_vocational</td>\n",
       "    </tr>\n",
       "    <tr>\n",
       "      <th>ed_2</th>\n",
       "      <td>na</td>\n",
       "      <td>na</td>\n",
       "      <td>na</td>\n",
       "      <td>na</td>\n",
       "      <td>na</td>\n",
       "    </tr>\n",
       "    <tr>\n",
       "      <th>ed_mother_1</th>\n",
       "      <td>hs</td>\n",
       "      <td>hs</td>\n",
       "      <td>hs</td>\n",
       "      <td>hs</td>\n",
       "      <td>hs</td>\n",
       "    </tr>\n",
       "    <tr>\n",
       "      <th>ed_father_1</th>\n",
       "      <td>some_college</td>\n",
       "      <td>some_college</td>\n",
       "      <td>some_college</td>\n",
       "      <td>some_college</td>\n",
       "      <td>some_college</td>\n",
       "    </tr>\n",
       "    <tr>\n",
       "      <th>ed_mother_2</th>\n",
       "      <td>na</td>\n",
       "      <td>na</td>\n",
       "      <td>na</td>\n",
       "      <td>na</td>\n",
       "      <td>na</td>\n",
       "    </tr>\n",
       "    <tr>\n",
       "      <th>ed_father_2</th>\n",
       "      <td>na</td>\n",
       "      <td>na</td>\n",
       "      <td>na</td>\n",
       "      <td>na</td>\n",
       "      <td>na</td>\n",
       "    </tr>\n",
       "    <tr>\n",
       "      <th>occ_1</th>\n",
       "      <td>0</td>\n",
       "      <td>0</td>\n",
       "      <td>0</td>\n",
       "      <td>0</td>\n",
       "      <td>0</td>\n",
       "    </tr>\n",
       "    <tr>\n",
       "      <th>occ_2</th>\n",
       "      <td>0</td>\n",
       "      <td>0</td>\n",
       "      <td>0</td>\n",
       "      <td>0</td>\n",
       "      <td>0</td>\n",
       "    </tr>\n",
       "    <tr>\n",
       "      <th>gi_other_value</th>\n",
       "      <td>0</td>\n",
       "      <td>0</td>\n",
       "      <td>0</td>\n",
       "      <td>0</td>\n",
       "      <td>0</td>\n",
       "    </tr>\n",
       "    <tr>\n",
       "      <th>fin_risk</th>\n",
       "      <td>-1</td>\n",
       "      <td>-1</td>\n",
       "      <td>-1</td>\n",
       "      <td>-1</td>\n",
       "      <td>-1</td>\n",
       "    </tr>\n",
       "    <tr>\n",
       "      <th>shop_credit</th>\n",
       "      <td>1</td>\n",
       "      <td>1</td>\n",
       "      <td>1</td>\n",
       "      <td>1</td>\n",
       "      <td>1</td>\n",
       "    </tr>\n",
       "    <tr>\n",
       "      <th>shop_credit_2</th>\n",
       "      <td>-1</td>\n",
       "      <td>-1</td>\n",
       "      <td>-1</td>\n",
       "      <td>-1</td>\n",
       "      <td>-1</td>\n",
       "    </tr>\n",
       "    <tr>\n",
       "      <th>fin_know</th>\n",
       "      <td>10</td>\n",
       "      <td>10</td>\n",
       "      <td>10</td>\n",
       "      <td>10</td>\n",
       "      <td>10</td>\n",
       "    </tr>\n",
       "    <tr>\n",
       "      <th>borrow_vacation</th>\n",
       "      <td>5</td>\n",
       "      <td>5</td>\n",
       "      <td>5</td>\n",
       "      <td>5</td>\n",
       "      <td>5</td>\n",
       "    </tr>\n",
       "    <tr>\n",
       "      <th>plan_horizon</th>\n",
       "      <td>3</td>\n",
       "      <td>3</td>\n",
       "      <td>3</td>\n",
       "      <td>3</td>\n",
       "      <td>3</td>\n",
       "    </tr>\n",
       "    <tr>\n",
       "      <th>spend_exceeds</th>\n",
       "      <td>2</td>\n",
       "      <td>2</td>\n",
       "      <td>2</td>\n",
       "      <td>2</td>\n",
       "      <td>2</td>\n",
       "    </tr>\n",
       "    <tr>\n",
       "      <th>spend_exceeds_excl_house</th>\n",
       "      <td>0</td>\n",
       "      <td>0</td>\n",
       "      <td>0</td>\n",
       "      <td>0</td>\n",
       "      <td>0</td>\n",
       "    </tr>\n",
       "    <tr>\n",
       "      <th>wt0</th>\n",
       "      <td>32135.7</td>\n",
       "      <td>32141.8</td>\n",
       "      <td>32072.4</td>\n",
       "      <td>32142.4</td>\n",
       "      <td>32126.3</td>\n",
       "    </tr>\n",
       "    <tr>\n",
       "      <th>gi_type_1</th>\n",
       "      <td>na</td>\n",
       "      <td>na</td>\n",
       "      <td>na</td>\n",
       "      <td>na</td>\n",
       "      <td>na</td>\n",
       "    </tr>\n",
       "    <tr>\n",
       "      <th>gi_value_1</th>\n",
       "      <td>0</td>\n",
       "      <td>0</td>\n",
       "      <td>0</td>\n",
       "      <td>0</td>\n",
       "      <td>0</td>\n",
       "    </tr>\n",
       "    <tr>\n",
       "      <th>gi_year_1</th>\n",
       "      <td>0</td>\n",
       "      <td>0</td>\n",
       "      <td>0</td>\n",
       "      <td>0</td>\n",
       "      <td>0</td>\n",
       "    </tr>\n",
       "    <tr>\n",
       "      <th>...</th>\n",
       "      <td>...</td>\n",
       "      <td>...</td>\n",
       "      <td>...</td>\n",
       "      <td>...</td>\n",
       "      <td>...</td>\n",
       "    </tr>\n",
       "    <tr>\n",
       "      <th>edcl</th>\n",
       "      <td>3</td>\n",
       "      <td>3</td>\n",
       "      <td>3</td>\n",
       "      <td>3</td>\n",
       "      <td>3</td>\n",
       "    </tr>\n",
       "    <tr>\n",
       "      <th>lifecl</th>\n",
       "      <td>6</td>\n",
       "      <td>6</td>\n",
       "      <td>6</td>\n",
       "      <td>6</td>\n",
       "      <td>6</td>\n",
       "    </tr>\n",
       "    <tr>\n",
       "      <th>famstruct</th>\n",
       "      <td>3</td>\n",
       "      <td>3</td>\n",
       "      <td>3</td>\n",
       "      <td>3</td>\n",
       "      <td>3</td>\n",
       "    </tr>\n",
       "    <tr>\n",
       "      <th>married</th>\n",
       "      <td>2</td>\n",
       "      <td>2</td>\n",
       "      <td>2</td>\n",
       "      <td>2</td>\n",
       "      <td>2</td>\n",
       "    </tr>\n",
       "    <tr>\n",
       "      <th>agecl</th>\n",
       "      <td>5</td>\n",
       "      <td>5</td>\n",
       "      <td>5</td>\n",
       "      <td>5</td>\n",
       "      <td>5</td>\n",
       "    </tr>\n",
       "    <tr>\n",
       "      <th>housecl</th>\n",
       "      <td>1</td>\n",
       "      <td>1</td>\n",
       "      <td>1</td>\n",
       "      <td>1</td>\n",
       "      <td>1</td>\n",
       "    </tr>\n",
       "    <tr>\n",
       "      <th>racecl</th>\n",
       "      <td>1</td>\n",
       "      <td>1</td>\n",
       "      <td>1</td>\n",
       "      <td>1</td>\n",
       "      <td>1</td>\n",
       "    </tr>\n",
       "    <tr>\n",
       "      <th>racecl4</th>\n",
       "      <td>1</td>\n",
       "      <td>1</td>\n",
       "      <td>1</td>\n",
       "      <td>1</td>\n",
       "      <td>1</td>\n",
       "    </tr>\n",
       "    <tr>\n",
       "      <th>asset</th>\n",
       "      <td>177100</td>\n",
       "      <td>177200</td>\n",
       "      <td>177100</td>\n",
       "      <td>177100</td>\n",
       "      <td>177200</td>\n",
       "    </tr>\n",
       "    <tr>\n",
       "      <th>liq</th>\n",
       "      <td>300</td>\n",
       "      <td>300</td>\n",
       "      <td>300</td>\n",
       "      <td>300</td>\n",
       "      <td>300</td>\n",
       "    </tr>\n",
       "    <tr>\n",
       "      <th>bond</th>\n",
       "      <td>0</td>\n",
       "      <td>0</td>\n",
       "      <td>0</td>\n",
       "      <td>0</td>\n",
       "      <td>0</td>\n",
       "    </tr>\n",
       "    <tr>\n",
       "      <th>fin</th>\n",
       "      <td>22300</td>\n",
       "      <td>22300</td>\n",
       "      <td>22300</td>\n",
       "      <td>22300</td>\n",
       "      <td>22300</td>\n",
       "    </tr>\n",
       "    <tr>\n",
       "      <th>nfin</th>\n",
       "      <td>154800</td>\n",
       "      <td>154900</td>\n",
       "      <td>154800</td>\n",
       "      <td>154800</td>\n",
       "      <td>154900</td>\n",
       "    </tr>\n",
       "    <tr>\n",
       "      <th>debt</th>\n",
       "      <td>380</td>\n",
       "      <td>370</td>\n",
       "      <td>370</td>\n",
       "      <td>370</td>\n",
       "      <td>370</td>\n",
       "    </tr>\n",
       "    <tr>\n",
       "      <th>indcat</th>\n",
       "      <td>4</td>\n",
       "      <td>4</td>\n",
       "      <td>4</td>\n",
       "      <td>4</td>\n",
       "      <td>4</td>\n",
       "    </tr>\n",
       "    <tr>\n",
       "      <th>equity</th>\n",
       "      <td>0</td>\n",
       "      <td>0</td>\n",
       "      <td>0</td>\n",
       "      <td>0</td>\n",
       "      <td>0</td>\n",
       "    </tr>\n",
       "    <tr>\n",
       "      <th>homeeq</th>\n",
       "      <td>150000</td>\n",
       "      <td>150000</td>\n",
       "      <td>150000</td>\n",
       "      <td>150000</td>\n",
       "      <td>150000</td>\n",
       "    </tr>\n",
       "    <tr>\n",
       "      <th>revpay</th>\n",
       "      <td>9.5</td>\n",
       "      <td>9.25</td>\n",
       "      <td>9.25</td>\n",
       "      <td>9.25</td>\n",
       "      <td>9.25</td>\n",
       "    </tr>\n",
       "    <tr>\n",
       "      <th>bnkruplast5</th>\n",
       "      <td>0</td>\n",
       "      <td>0</td>\n",
       "      <td>0</td>\n",
       "      <td>0</td>\n",
       "      <td>0</td>\n",
       "    </tr>\n",
       "    <tr>\n",
       "      <th>debt2inc</th>\n",
       "      <td>0.028866</td>\n",
       "      <td>0.0281064</td>\n",
       "      <td>0.0281064</td>\n",
       "      <td>0.0281064</td>\n",
       "      <td>0.0281064</td>\n",
       "    </tr>\n",
       "    <tr>\n",
       "      <th>hsaving</th>\n",
       "      <td>0</td>\n",
       "      <td>0</td>\n",
       "      <td>0</td>\n",
       "      <td>0</td>\n",
       "      <td>0</td>\n",
       "    </tr>\n",
       "    <tr>\n",
       "      <th>saved</th>\n",
       "      <td>0</td>\n",
       "      <td>0</td>\n",
       "      <td>0</td>\n",
       "      <td>0</td>\n",
       "      <td>0</td>\n",
       "    </tr>\n",
       "    <tr>\n",
       "      <th>gi_sum</th>\n",
       "      <td>0</td>\n",
       "      <td>0</td>\n",
       "      <td>0</td>\n",
       "      <td>0</td>\n",
       "      <td>0</td>\n",
       "    </tr>\n",
       "    <tr>\n",
       "      <th>lt_planner</th>\n",
       "      <td>1</td>\n",
       "      <td>1</td>\n",
       "      <td>1</td>\n",
       "      <td>1</td>\n",
       "      <td>1</td>\n",
       "    </tr>\n",
       "    <tr>\n",
       "      <th>n_gift</th>\n",
       "      <td>0</td>\n",
       "      <td>0</td>\n",
       "      <td>0</td>\n",
       "      <td>0</td>\n",
       "      <td>0</td>\n",
       "    </tr>\n",
       "    <tr>\n",
       "      <th>n_inherit</th>\n",
       "      <td>0</td>\n",
       "      <td>0</td>\n",
       "      <td>0</td>\n",
       "      <td>0</td>\n",
       "      <td>0</td>\n",
       "    </tr>\n",
       "    <tr>\n",
       "      <th>n_trust</th>\n",
       "      <td>0</td>\n",
       "      <td>0</td>\n",
       "      <td>0</td>\n",
       "      <td>0</td>\n",
       "      <td>0</td>\n",
       "    </tr>\n",
       "    <tr>\n",
       "      <th>n_transfer</th>\n",
       "      <td>0</td>\n",
       "      <td>0</td>\n",
       "      <td>0</td>\n",
       "      <td>0</td>\n",
       "      <td>0</td>\n",
       "    </tr>\n",
       "    <tr>\n",
       "      <th>any_transfer</th>\n",
       "      <td>0</td>\n",
       "      <td>0</td>\n",
       "      <td>0</td>\n",
       "      <td>0</td>\n",
       "      <td>0</td>\n",
       "    </tr>\n",
       "    <tr>\n",
       "      <th>any_inherit</th>\n",
       "      <td>0</td>\n",
       "      <td>0</td>\n",
       "      <td>0</td>\n",
       "      <td>0</td>\n",
       "      <td>0</td>\n",
       "    </tr>\n",
       "  </tbody>\n",
       "</table>\n",
       "<p>81 rows × 5 columns</p>\n",
       "</div>"
      ],
      "text/plain": [
       "                                         0                 1  \\\n",
       "case_id                                  1                 1   \n",
       "record_id                               11                12   \n",
       "implicate_id                             1                 2   \n",
       "age_1                                   71                71   \n",
       "age_2                                    0                 0   \n",
       "hisp                                     5                 5   \n",
       "race                                 white             white   \n",
       "addtional_race                           5                 5   \n",
       "unusual_income                           3                 3   \n",
       "ed_1                      assoc_vocational  assoc_vocational   \n",
       "ed_2                                    na                na   \n",
       "ed_mother_1                             hs                hs   \n",
       "ed_father_1                   some_college      some_college   \n",
       "ed_mother_2                             na                na   \n",
       "ed_father_2                             na                na   \n",
       "occ_1                                    0                 0   \n",
       "occ_2                                    0                 0   \n",
       "gi_other_value                           0                 0   \n",
       "fin_risk                                -1                -1   \n",
       "shop_credit                              1                 1   \n",
       "shop_credit_2                           -1                -1   \n",
       "fin_know                                10                10   \n",
       "borrow_vacation                          5                 5   \n",
       "plan_horizon                             3                 3   \n",
       "spend_exceeds                            2                 2   \n",
       "spend_exceeds_excl_house                 0                 0   \n",
       "wt0                                32135.7           32141.8   \n",
       "gi_type_1                               na                na   \n",
       "gi_value_1                               0                 0   \n",
       "gi_year_1                                0                 0   \n",
       "...                                    ...               ...   \n",
       "edcl                                     3                 3   \n",
       "lifecl                                   6                 6   \n",
       "famstruct                                3                 3   \n",
       "married                                  2                 2   \n",
       "agecl                                    5                 5   \n",
       "housecl                                  1                 1   \n",
       "racecl                                   1                 1   \n",
       "racecl4                                  1                 1   \n",
       "asset                               177100            177200   \n",
       "liq                                    300               300   \n",
       "bond                                     0                 0   \n",
       "fin                                  22300             22300   \n",
       "nfin                                154800            154900   \n",
       "debt                                   380               370   \n",
       "indcat                                   4                 4   \n",
       "equity                                   0                 0   \n",
       "homeeq                              150000            150000   \n",
       "revpay                                 9.5              9.25   \n",
       "bnkruplast5                              0                 0   \n",
       "debt2inc                          0.028866         0.0281064   \n",
       "hsaving                                  0                 0   \n",
       "saved                                    0                 0   \n",
       "gi_sum                                   0                 0   \n",
       "lt_planner                               1                 1   \n",
       "n_gift                                   0                 0   \n",
       "n_inherit                                0                 0   \n",
       "n_trust                                  0                 0   \n",
       "n_transfer                               0                 0   \n",
       "any_transfer                             0                 0   \n",
       "any_inherit                              0                 0   \n",
       "\n",
       "                                         2                 3                 4  \n",
       "case_id                                  1                 1                 1  \n",
       "record_id                               13                14                15  \n",
       "implicate_id                             3                 4                 5  \n",
       "age_1                                   71                71                71  \n",
       "age_2                                    0                 0                 0  \n",
       "hisp                                     5                 5                 5  \n",
       "race                                 white             white             white  \n",
       "addtional_race                           5                 5                 5  \n",
       "unusual_income                           3                 3                 3  \n",
       "ed_1                      assoc_vocational  assoc_vocational  assoc_vocational  \n",
       "ed_2                                    na                na                na  \n",
       "ed_mother_1                             hs                hs                hs  \n",
       "ed_father_1                   some_college      some_college      some_college  \n",
       "ed_mother_2                             na                na                na  \n",
       "ed_father_2                             na                na                na  \n",
       "occ_1                                    0                 0                 0  \n",
       "occ_2                                    0                 0                 0  \n",
       "gi_other_value                           0                 0                 0  \n",
       "fin_risk                                -1                -1                -1  \n",
       "shop_credit                              1                 1                 1  \n",
       "shop_credit_2                           -1                -1                -1  \n",
       "fin_know                                10                10                10  \n",
       "borrow_vacation                          5                 5                 5  \n",
       "plan_horizon                             3                 3                 3  \n",
       "spend_exceeds                            2                 2                 2  \n",
       "spend_exceeds_excl_house                 0                 0                 0  \n",
       "wt0                                32072.4           32142.4           32126.3  \n",
       "gi_type_1                               na                na                na  \n",
       "gi_value_1                               0                 0                 0  \n",
       "gi_year_1                                0                 0                 0  \n",
       "...                                    ...               ...               ...  \n",
       "edcl                                     3                 3                 3  \n",
       "lifecl                                   6                 6                 6  \n",
       "famstruct                                3                 3                 3  \n",
       "married                                  2                 2                 2  \n",
       "agecl                                    5                 5                 5  \n",
       "housecl                                  1                 1                 1  \n",
       "racecl                                   1                 1                 1  \n",
       "racecl4                                  1                 1                 1  \n",
       "asset                               177100            177100            177200  \n",
       "liq                                    300               300               300  \n",
       "bond                                     0                 0                 0  \n",
       "fin                                  22300             22300             22300  \n",
       "nfin                                154800            154800            154900  \n",
       "debt                                   370               370               370  \n",
       "indcat                                   4                 4                 4  \n",
       "equity                                   0                 0                 0  \n",
       "homeeq                              150000            150000            150000  \n",
       "revpay                                9.25              9.25              9.25  \n",
       "bnkruplast5                              0                 0                 0  \n",
       "debt2inc                         0.0281064         0.0281064         0.0281064  \n",
       "hsaving                                  0                 0                 0  \n",
       "saved                                    0                 0                 0  \n",
       "gi_sum                                   0                 0                 0  \n",
       "lt_planner                               1                 1                 1  \n",
       "n_gift                                   0                 0                 0  \n",
       "n_inherit                                0                 0                 0  \n",
       "n_trust                                  0                 0                 0  \n",
       "n_transfer                               0                 0                 0  \n",
       "any_transfer                             0                 0                 0  \n",
       "any_inherit                              0                 0                 0  \n",
       "\n",
       "[81 rows x 5 columns]"
      ]
     },
     "execution_count": 2,
     "metadata": {},
     "output_type": "execute_result"
    }
   ],
   "source": [
    "df = pd.read_csv('scf16.csv')\n",
    "df = df[df.race.isin(['white','black'])]\n",
    "df.head().T"
   ]
  },
  {
   "cell_type": "code",
   "execution_count": 26,
   "metadata": {},
   "outputs": [],
   "source": [
    "# Count parent's bachelors degrees\n",
    "\n",
    "def count_bach(r):\n",
    "    return \\\n",
    "        int(r.ed_father_1 == 'bachelors') + \\\n",
    "        int(r.ed_father_2 == 'bachelors') + \\\n",
    "        int(r.ed_mother_1 == 'bachelors') + \\\n",
    "        int(r.ed_mother_2 == 'bachelors')\n",
    " \n",
    "df['n_bach'] = df.apply(count_bach, axis=1)\n"
   ]
  },
  {
   "cell_type": "code",
   "execution_count": 43,
   "metadata": {},
   "outputs": [
    {
     "data": {
      "text/plain": [
       "Index(['<35', '35-44', '45-54', '55-64', '65-74', '>=75'], dtype='object')"
      ]
     },
     "execution_count": 43,
     "metadata": {},
     "output_type": "execute_result"
    }
   ],
   "source": [
    "# Convert percentile category codes into percentile numbers\n",
    "# 0 10 20 30 40 50 60 70 80 90 95 99\n",
    "bc = pd.CategoricalDtype(ordered=True)\n",
    "df['nincpctle'] = df.nincpctlecat.astype(bc).cat.rename_categories([0, 10, 20, 30, 40, 50, 60, 70, 80, 90, 95, 99])\n",
    "df['ninc'] = df.ninccat.astype(bc).cat.rename_categories([0,20,40,60,80,90])\n",
    "df['nwpctle'] = df.nwpctlecat.astype(bc).cat.rename_categories([0, 10, 20, 30, 40, 50, 60, 70, 80, 90, 95, 99])\n",
    "\n",
    "df['agecl'] = df.agecl.astype('category').cat.rename_categories({1:'<35', 2:'35-44', 3:'45-54', 4:'55-64', 5:'65-74', 6:'>=75'})\n",
    "df['edcl'] = df.edcl.astype('category').cat.rename_categories({1:'No HS', 2:'HS/GED', 3:'Some College', 4:'College'})\n",
    "\n",
    "df.agecl.cat.categories"
   ]
  },
  {
   "cell_type": "code",
   "execution_count": 5,
   "metadata": {},
   "outputs": [
    {
     "data": {
      "text/plain": [
       "<matplotlib.axes._subplots.AxesSubplot at 0x7ff401045110>"
      ]
     },
     "execution_count": 5,
     "metadata": {},
     "output_type": "execute_result"
    },
    {
     "data": {
      "image/png": "[encoded data removed]",
      "text/plain": [
       "<Figure size 432x288 with 1 Axes>"
      ]
     },
     "metadata": {
      "needs_background": "light"
     },
     "output_type": "display_data"
    }
   ],
   "source": [
    "df[df.nincpctle<95].groupby('nincpctle').norminc.mean().plot.bar()"
   ]
  },
  {
   "cell_type": "code",
   "execution_count": 45,
   "metadata": {},
   "outputs": [
    {
     "data": {
      "text/html": [
       "<div>\n",
       "<style scoped>\n",
       "    .dataframe tbody tr th:only-of-type {\n",
       "        vertical-align: middle;\n",
       "    }\n",
       "\n",
       "    .dataframe tbody tr th {\n",
       "        vertical-align: top;\n",
       "    }\n",
       "\n",
       "    .dataframe thead th {\n",
       "        text-align: right;\n",
       "    }\n",
       "</style>\n",
       "<table border=\"1\" class=\"dataframe\">\n",
       "  <thead>\n",
       "    <tr style=\"text-align: right;\">\n",
       "      <th></th>\n",
       "      <th>case_id</th>\n",
       "      <th>record_id</th>\n",
       "      <th>race</th>\n",
       "      <th>age_1</th>\n",
       "      <th>agecl</th>\n",
       "      <th>norminc</th>\n",
       "      <th>networth</th>\n",
       "      <th>asset</th>\n",
       "      <th>gi_sum</th>\n",
       "      <th>occat1</th>\n",
       "      <th>...</th>\n",
       "      <th>ninc</th>\n",
       "      <th>nincpctle</th>\n",
       "      <th>homeeq</th>\n",
       "      <th>debt</th>\n",
       "      <th>equity</th>\n",
       "      <th>nfin</th>\n",
       "      <th>married</th>\n",
       "      <th>n_bach</th>\n",
       "      <th>income_decile</th>\n",
       "      <th>gi_sum_decile</th>\n",
       "    </tr>\n",
       "  </thead>\n",
       "  <tbody>\n",
       "    <tr>\n",
       "      <th>8459</th>\n",
       "      <td>1696</td>\n",
       "      <td>16965</td>\n",
       "      <td>black</td>\n",
       "      <td>47</td>\n",
       "      <td>45-54</td>\n",
       "      <td>40505.456634</td>\n",
       "      <td>48700.0</td>\n",
       "      <td>61200.0</td>\n",
       "      <td>0</td>\n",
       "      <td>1</td>\n",
       "      <td>...</td>\n",
       "      <td>20</td>\n",
       "      <td>30</td>\n",
       "      <td>0.0</td>\n",
       "      <td>12500.0</td>\n",
       "      <td>7800.0</td>\n",
       "      <td>5900.0</td>\n",
       "      <td>2</td>\n",
       "      <td>0</td>\n",
       "      <td>3</td>\n",
       "      <td>0.0</td>\n",
       "    </tr>\n",
       "    <tr>\n",
       "      <th>9537</th>\n",
       "      <td>1912</td>\n",
       "      <td>19123</td>\n",
       "      <td>white</td>\n",
       "      <td>31</td>\n",
       "      <td>&lt;35</td>\n",
       "      <td>75947.731189</td>\n",
       "      <td>-17760.0</td>\n",
       "      <td>216550.0</td>\n",
       "      <td>0</td>\n",
       "      <td>1</td>\n",
       "      <td>...</td>\n",
       "      <td>60</td>\n",
       "      <td>60</td>\n",
       "      <td>4000.0</td>\n",
       "      <td>234310.0</td>\n",
       "      <td>0.0</td>\n",
       "      <td>213800.0</td>\n",
       "      <td>1</td>\n",
       "      <td>2</td>\n",
       "      <td>6</td>\n",
       "      <td>0.0</td>\n",
       "    </tr>\n",
       "    <tr>\n",
       "      <th>22319</th>\n",
       "      <td>4474</td>\n",
       "      <td>44745</td>\n",
       "      <td>white</td>\n",
       "      <td>23</td>\n",
       "      <td>&lt;35</td>\n",
       "      <td>37467.547387</td>\n",
       "      <td>154400.0</td>\n",
       "      <td>161800.0</td>\n",
       "      <td>0</td>\n",
       "      <td>1</td>\n",
       "      <td>...</td>\n",
       "      <td>20</td>\n",
       "      <td>30</td>\n",
       "      <td>0.0</td>\n",
       "      <td>7400.0</td>\n",
       "      <td>13100.0</td>\n",
       "      <td>43800.0</td>\n",
       "      <td>2</td>\n",
       "      <td>0</td>\n",
       "      <td>3</td>\n",
       "      <td>0.0</td>\n",
       "    </tr>\n",
       "    <tr>\n",
       "      <th>10612</th>\n",
       "      <td>2127</td>\n",
       "      <td>21273</td>\n",
       "      <td>white</td>\n",
       "      <td>49</td>\n",
       "      <td>45-54</td>\n",
       "      <td>195438.828260</td>\n",
       "      <td>2093000.0</td>\n",
       "      <td>2422000.0</td>\n",
       "      <td>0</td>\n",
       "      <td>2</td>\n",
       "      <td>...</td>\n",
       "      <td>90</td>\n",
       "      <td>90</td>\n",
       "      <td>250000.0</td>\n",
       "      <td>329000.0</td>\n",
       "      <td>65000.0</td>\n",
       "      <td>2291000.0</td>\n",
       "      <td>1</td>\n",
       "      <td>3</td>\n",
       "      <td>9</td>\n",
       "      <td>0.0</td>\n",
       "    </tr>\n",
       "    <tr>\n",
       "      <th>30323</th>\n",
       "      <td>6077</td>\n",
       "      <td>60774</td>\n",
       "      <td>white</td>\n",
       "      <td>69</td>\n",
       "      <td>65-74</td>\n",
       "      <td>59745.548535</td>\n",
       "      <td>476000.0</td>\n",
       "      <td>553000.0</td>\n",
       "      <td>0</td>\n",
       "      <td>3</td>\n",
       "      <td>...</td>\n",
       "      <td>40</td>\n",
       "      <td>50</td>\n",
       "      <td>253000.0</td>\n",
       "      <td>77000.0</td>\n",
       "      <td>101500.0</td>\n",
       "      <td>342000.0</td>\n",
       "      <td>2</td>\n",
       "      <td>0</td>\n",
       "      <td>5</td>\n",
       "      <td>0.0</td>\n",
       "    </tr>\n",
       "  </tbody>\n",
       "</table>\n",
       "<p>5 rows × 27 columns</p>\n",
       "</div>"
      ],
      "text/plain": [
       "       case_id  record_id   race  age_1  agecl        norminc   networth  \\\n",
       "8459      1696      16965  black     47  45-54   40505.456634    48700.0   \n",
       "9537      1912      19123  white     31    <35   75947.731189   -17760.0   \n",
       "22319     4474      44745  white     23    <35   37467.547387   154400.0   \n",
       "10612     2127      21273  white     49  45-54  195438.828260  2093000.0   \n",
       "30323     6077      60774  white     69  65-74   59745.548535   476000.0   \n",
       "\n",
       "           asset  gi_sum  occat1  ...  ninc nincpctle    homeeq      debt  \\\n",
       "8459     61200.0       0       1  ...    20        30       0.0   12500.0   \n",
       "9537    216550.0       0       1  ...    60        60    4000.0  234310.0   \n",
       "22319   161800.0       0       1  ...    20        30       0.0    7400.0   \n",
       "10612  2422000.0       0       2  ...    90        90  250000.0  329000.0   \n",
       "30323   553000.0       0       3  ...    40        50  253000.0   77000.0   \n",
       "\n",
       "         equity       nfin  married n_bach income_decile  gi_sum_decile  \n",
       "8459     7800.0     5900.0        2      0             3            0.0  \n",
       "9537        0.0   213800.0        1      2             6            0.0  \n",
       "22319   13100.0    43800.0        2      0             3            0.0  \n",
       "10612   65000.0  2291000.0        1      3             9            0.0  \n",
       "30323  101500.0   342000.0        2      0             5            0.0  \n",
       "\n",
       "[5 rows x 27 columns]"
      ]
     },
     "execution_count": 45,
     "metadata": {},
     "output_type": "execute_result"
    }
   ],
   "source": [
    "dfs = make_sample(df, extra_cols=['ninc', 'nincpctle' ,'homeeq','debt','equity', 'nfin', 'married', 'n_bach' ])\n",
    "dfs.head()"
   ]
  },
  {
   "cell_type": "code",
   "execution_count": 30,
   "metadata": {},
   "outputs": [
    {
     "data": {
      "text/plain": [
       "0    6154985\n",
       "1    2036677\n",
       "2    1251539\n",
       "3     354785\n",
       "4     202014\n",
       "Name: n_bach, dtype: int64"
      ]
     },
     "execution_count": 30,
     "metadata": {},
     "output_type": "execute_result"
    }
   ],
   "source": [
    "dfs.n_bach.value_counts()"
   ]
  },
  {
   "cell_type": "code",
   "execution_count": 8,
   "metadata": {},
   "outputs": [
    {
     "data": {
      "text/plain": [
       "race\n",
       "black     16300.0\n",
       "white    162600.0\n",
       "Name: networth, dtype: float64"
      ]
     },
     "execution_count": 8,
     "metadata": {},
     "output_type": "execute_result"
    }
   ],
   "source": [
    "dfs.groupby('race').networth.median()"
   ]
  },
  {
   "cell_type": "code",
   "execution_count": 9,
   "metadata": {},
   "outputs": [
    {
     "name": "stdout",
     "output_type": "stream",
     "text": [
      "9.985889570552148\n"
     ]
    },
    {
     "data": {
      "text/plain": [
       "race\n",
       "black     16300.0\n",
       "white    162770.0\n",
       "dtype: float64"
      ]
     },
     "execution_count": 9,
     "metadata": {},
     "output_type": "execute_result"
    }
   ],
   "source": [
    "x = df.groupby('race').apply(wmedian,'networth')\n",
    "print(x.white/x.black)\n",
    "x"
   ]
  },
  {
   "cell_type": "code",
   "execution_count": 10,
   "metadata": {},
   "outputs": [
    {
     "name": "stdout",
     "output_type": "stream",
     "text": [
      "9.648760330578513\n"
     ]
    }
   ],
   "source": [
    "x = df[df.gi_sum <= 0].groupby('race').apply(wmedian,'networth')\n",
    "print(x.white/x.black)"
   ]
  },
  {
   "cell_type": "code",
   "execution_count": 11,
   "metadata": {},
   "outputs": [
    {
     "data": {
      "text/plain": [
       "2.431190222858261"
      ]
     },
     "execution_count": 11,
     "metadata": {},
     "output_type": "execute_result"
    }
   ],
   "source": [
    "t = dfs.groupby(['agecl','famstruct', 'nincpctle', 'race']).networth.median().unstack()\n",
    "t = (t.white/t.black)\n",
    "t = t[(t<10) & (t>0)]\n",
    "t.mean()"
   ]
  },
  {
   "cell_type": "code",
   "execution_count": 36,
   "metadata": {},
   "outputs": [],
   "source": [
    "def wb_rmse(t):\n",
    "    \"\"\" White/Black Root Mean Squared Error\"\"\"\n",
    "    return np.mean(np.sqrt(((t.white - t.black)/t.white)**2))"
   ]
  },
  {
   "cell_type": "code",
   "execution_count": 13,
   "metadata": {},
   "outputs": [
    {
     "data": {
      "text/plain": [
       "0.709506888518855"
      ]
     },
     "execution_count": 13,
     "metadata": {},
     "output_type": "execute_result"
    },
    {
     "data": {
      "image/png": "[encoded data removed]",
      "text/plain": [
       "<Figure size 864x576 with 1 Axes>"
      ]
     },
     "metadata": {
      "needs_background": "light"
     },
     "output_type": "display_data"
    }
   ],
   "source": [
    "fig, ax = plt.subplots(figsize=(12,8))\n",
    "\n",
    "fig.suptitle('Net Worth by Income Percentile and Race', fontsize=20)\n",
    "t = dfs[dfs.nincpctle<95].groupby(['nincpctle', 'race']).networth.median().unstack()\n",
    "\n",
    "t.plot.bar(ax=ax)\n",
    "plt.gcf().text(0,0, f\"Source: Survey of Consumer Finances, 2016\", fontsize=14) \n",
    "ax.set_xlabel('Normal Annual Income, percentile')\n",
    "ax.set_ylabel('Median Net Worth');\n",
    "wb_rmse(t)"
   ]
  },
  {
   "cell_type": "code",
   "execution_count": 14,
   "metadata": {},
   "outputs": [],
   "source": [
    "nh = dfs[dfs.gi_sum == 0]  # \"no help\"\n",
    "yh = dfs[dfs.gi_sum != 0] # \" Yes help\""
   ]
  },
  {
   "cell_type": "code",
   "execution_count": 15,
   "metadata": {},
   "outputs": [
    {
     "data": {
      "text/plain": [
       "0.365605080595242"
      ]
     },
     "execution_count": 15,
     "metadata": {},
     "output_type": "execute_result"
    },
    {
     "data": {
      "image/png": "[encoded data removed]",
      "text/plain": [
       "<Figure size 864x576 with 1 Axes>"
      ]
     },
     "metadata": {
      "needs_background": "light"
     },
     "output_type": "display_data"
    }
   ],
   "source": [
    "fig, ax = plt.subplots(figsize=(12,8))\n",
    "\n",
    "fig.suptitle('Net Worth by Income Percentile and Race\\nHouseholds with  gifts, transfers or inheritances', fontsize=20)\n",
    "\n",
    "t = yh[yh.nincpctle<95].groupby(['nincpctle','race']).networth.median().unstack()\n",
    "#t = t1.join(t2)\n",
    "\n",
    "t.rename(columns={'white':'White, Transfers', 'black':'Black, Transfers'}).plot.bar(ax=ax)\n",
    "plt.gcf().text(0,0, f\"Source: Survey of Consumer Finances, 2016\", fontsize=14) \n",
    "ax.set_xlabel('Normal Annual Income, percentile')\n",
    "ax.set_ylabel('Median Net Worth');\n",
    "wb_rmse(t)"
   ]
  },
  {
   "cell_type": "code",
   "execution_count": 16,
   "metadata": {},
   "outputs": [
    {
     "data": {
      "text/plain": [
       "0.6705947507100313"
      ]
     },
     "execution_count": 16,
     "metadata": {},
     "output_type": "execute_result"
    },
    {
     "data": {
      "image/png": "[encoded data removed]",
      "text/plain": [
       "<Figure size 864x576 with 1 Axes>"
      ]
     },
     "metadata": {
      "needs_background": "light"
     },
     "output_type": "display_data"
    }
   ],
   "source": [
    "fig, ax = plt.subplots(figsize=(12,8))\n",
    "\n",
    "fig.suptitle('Net Worth by Income Percentile and Race\\nHouseholds without gifts, transfers or inheritances', fontsize=20)\n",
    "t = nh[nh.nincpctle < 95]\n",
    "t = t.groupby(['nincpctle','race']).networth.median().unstack()\n",
    "\n",
    "t.rename(columns={'white':'White, No transfers', 'black':'Black, No transfers'}).plot.bar(ax=ax)\n",
    "plt.gcf().text(0,0, f\"Source: Survey of Consumer Finances, 2016\", fontsize=14) \n",
    "ax.set_xlabel('Normal Annual Income, percentile')\n",
    "ax.set_ylabel('Median Net Worth');\n",
    "wb_rmse(t)"
   ]
  },
  {
   "cell_type": "code",
   "execution_count": 47,
   "metadata": {},
   "outputs": [
    {
     "data": {
      "text/plain": [
       "College         0.351365\n",
       "Some College    0.281162\n",
       "HS/GED          0.267678\n",
       "No HS           0.099795\n",
       "Name: edcl, dtype: float64"
      ]
     },
     "execution_count": 47,
     "metadata": {},
     "output_type": "execute_result"
    }
   ],
   "source": [
    "dfs.edcl.value_counts()/len(dfs)"
   ]
  },
  {
   "cell_type": "code",
   "execution_count": 50,
   "metadata": {},
   "outputs": [
    {
     "data": {
      "text/plain": [
       "0.8353354095786704"
      ]
     },
     "execution_count": 50,
     "metadata": {},
     "output_type": "execute_result"
    },
    {
     "data": {
      "image/png": "[encoded data removed]",
      "text/plain": [
       "<Figure size 864x576 with 1 Axes>"
      ]
     },
     "metadata": {
      "needs_background": "light"
     },
     "output_type": "display_data"
    }
   ],
   "source": [
    "fig, ax = plt.subplots(figsize=(12,8))\n",
    "\n",
    "fig.suptitle('Net Worth by Educational Accomplishment and Race\\nHouseholds without gifts, transfers or inheritances, Below 95th income percentile', fontsize=20)\n",
    "t = dfs[dfs.nincpctle < 95]\n",
    "t = t.groupby(['edcl','race']).networth.median().unstack()\n",
    "\n",
    "t.rename(columns={'white':'White', 'black':'Black'}).plot.bar(ax=ax)\n",
    "plt.gcf().text(0,0, f\"Source: Survey of Consumer Finances, 2016\", fontsize=14) \n",
    "ax.set_xlabel('Normal Annual Income, percentile')\n",
    "ax.set_ylabel('Median Net Worth');\n",
    "wb_rmse(t)"
   ]
  },
  {
   "cell_type": "code",
   "execution_count": 53,
   "metadata": {},
   "outputs": [
    {
     "data": {
      "text/plain": [
       "0.9"
      ]
     },
     "execution_count": 53,
     "metadata": {},
     "output_type": "execute_result"
    }
   ],
   "source": [
    "t = dfs.groupby('race').networth.median().to_frame().T\n",
    "wb_rmse(t)"
   ]
  },
  {
   "cell_type": "code",
   "execution_count": 56,
   "metadata": {},
   "outputs": [
    {
     "data": {
      "text/plain": [
       "networth    0.9\n",
       "dtype: float64"
      ]
     },
     "execution_count": 56,
     "metadata": {},
     "output_type": "execute_result"
    }
   ],
   "source": [
    "(t.white - t.black)/t.white"
   ]
  },
  {
   "cell_type": "code",
   "execution_count": 35,
   "metadata": {},
   "outputs": [
    {
     "data": {
      "text/html": [
       "<div>\n",
       "<style scoped>\n",
       "    .dataframe tbody tr th:only-of-type {\n",
       "        vertical-align: middle;\n",
       "    }\n",
       "\n",
       "    .dataframe tbody tr th {\n",
       "        vertical-align: top;\n",
       "    }\n",
       "\n",
       "    .dataframe thead th {\n",
       "        text-align: right;\n",
       "    }\n",
       "</style>\n",
       "<table border=\"1\" class=\"dataframe\">\n",
       "  <thead>\n",
       "    <tr style=\"text-align: right;\">\n",
       "      <th>race</th>\n",
       "      <th>black</th>\n",
       "      <th>white</th>\n",
       "    </tr>\n",
       "    <tr>\n",
       "      <th>any_transfer</th>\n",
       "      <th></th>\n",
       "      <th></th>\n",
       "    </tr>\n",
       "  </thead>\n",
       "  <tbody>\n",
       "    <tr>\n",
       "      <th>0</th>\n",
       "      <td>26850.0</td>\n",
       "      <td>80510.0</td>\n",
       "    </tr>\n",
       "    <tr>\n",
       "      <th>1</th>\n",
       "      <td>80000.0</td>\n",
       "      <td>150070.0</td>\n",
       "    </tr>\n",
       "  </tbody>\n",
       "</table>\n",
       "</div>"
      ],
      "text/plain": [
       "race            black     white\n",
       "any_transfer                   \n",
       "0             26850.0   80510.0\n",
       "1             80000.0  150070.0"
      ]
     },
     "execution_count": 35,
     "metadata": {},
     "output_type": "execute_result"
    }
   ],
   "source": [
    "t = dfs.query( '(nincpctle <= 70) & (nincpctle >= 30) &  (married == 2) & ( age_1 >=35 ) & (age_1 <=55)')\n",
    "t = t.groupby(['race',t.any_transfer]).networth.median().unstack().T\n",
    "t"
   ]
  },
  {
   "cell_type": "code",
   "execution_count": 39,
   "metadata": {},
   "outputs": [
    {
     "data": {
      "text/plain": [
       "0.6665010557694696"
      ]
     },
     "execution_count": 39,
     "metadata": {},
     "output_type": "execute_result"
    }
   ],
   "source": [
    "wb_rmse(t.loc[0])"
   ]
  },
  {
   "cell_type": "code",
   "execution_count": 40,
   "metadata": {},
   "outputs": [
    {
     "data": {
      "text/plain": [
       "0.4669154394615846"
      ]
     },
     "execution_count": 40,
     "metadata": {},
     "output_type": "execute_result"
    }
   ],
   "source": [
    "wb_rmse(t.loc[1])"
   ]
  },
  {
   "cell_type": "code",
   "execution_count": 34,
   "metadata": {},
   "outputs": [
    {
     "data": {
      "text/html": [
       "<div>\n",
       "<style scoped>\n",
       "    .dataframe tbody tr th:only-of-type {\n",
       "        vertical-align: middle;\n",
       "    }\n",
       "\n",
       "    .dataframe tbody tr th {\n",
       "        vertical-align: top;\n",
       "    }\n",
       "\n",
       "    .dataframe thead th {\n",
       "        text-align: right;\n",
       "    }\n",
       "</style>\n",
       "<table border=\"1\" class=\"dataframe\">\n",
       "  <thead>\n",
       "    <tr style=\"text-align: right;\">\n",
       "      <th>race</th>\n",
       "      <th>black</th>\n",
       "      <th>white</th>\n",
       "    </tr>\n",
       "    <tr>\n",
       "      <th>n_bach</th>\n",
       "      <th></th>\n",
       "      <th></th>\n",
       "    </tr>\n",
       "  </thead>\n",
       "  <tbody>\n",
       "    <tr>\n",
       "      <th>0</th>\n",
       "      <td>16300.0</td>\n",
       "      <td>142180.0</td>\n",
       "    </tr>\n",
       "    <tr>\n",
       "      <th>1</th>\n",
       "      <td>18890.0</td>\n",
       "      <td>179700.0</td>\n",
       "    </tr>\n",
       "    <tr>\n",
       "      <th>2</th>\n",
       "      <td>7080.0</td>\n",
       "      <td>167150.0</td>\n",
       "    </tr>\n",
       "    <tr>\n",
       "      <th>3</th>\n",
       "      <td>138500.0</td>\n",
       "      <td>343700.0</td>\n",
       "    </tr>\n",
       "    <tr>\n",
       "      <th>4</th>\n",
       "      <td>-17200.0</td>\n",
       "      <td>645000.0</td>\n",
       "    </tr>\n",
       "  </tbody>\n",
       "</table>\n",
       "</div>"
      ],
      "text/plain": [
       "race       black     white\n",
       "n_bach                    \n",
       "0        16300.0  142180.0\n",
       "1        18890.0  179700.0\n",
       "2         7080.0  167150.0\n",
       "3       138500.0  343700.0\n",
       "4       -17200.0  645000.0"
      ]
     },
     "execution_count": 34,
     "metadata": {},
     "output_type": "execute_result"
    }
   ],
   "source": [
    "dfs.groupby(['n_bach','race']).networth.median().unstack()"
   ]
  },
  {
   "cell_type": "code",
   "execution_count": null,
   "metadata": {},
   "outputs": [],
   "source": [
    "yh.groupby('race').networth.median()"
   ]
  },
  {
   "cell_type": "code",
   "execution_count": null,
   "metadata": {},
   "outputs": [],
   "source": [
    "t = df.groupby(['ninccat','edcl','race']).networth.median().unstack()\n",
    "t = t.black/t.white\n",
    "t.unstack().plot()"
   ]
  },
  {
   "cell_type": "markdown",
   "metadata": {},
   "source": [
    "# Role of Stocks and Home Equity"
   ]
  },
  {
   "cell_type": "code",
   "execution_count": null,
   "metadata": {},
   "outputs": [],
   "source": [
    "t = nh.copy()\n",
    "t['house_r'] = t.homeeq/t.asset\n",
    "t['eq_r'] = t.equity/t.asset\n",
    "t['other_r'] = (t.asset-t.equity-t.homeeq)/t.asset\n",
    "t['nfin_r'] = t.nfin/t.asset\n",
    "t[['asset','networth','house_r', 'eq_r','other_r', 'nfin_r']].corr()"
   ]
  },
  {
   "cell_type": "code",
   "execution_count": null,
   "metadata": {},
   "outputs": [],
   "source": [
    "fig, ax = plt.subplots(2,2, figsize=(15,10))\n",
    "ax = list(ax.flat)\n",
    "\n",
    "g = t[t.nincpctle<95].groupby(['race','nincpctle'])\n",
    "\n",
    "g.eq_r.mean().unstack().T.plot.bar(ax=ax[0]); ax[0].set_title('Equities', fontsize=16)\n",
    "g.house_r.mean().unstack().T.plot.bar(ax=ax[1]); ax[1].set_title('Home Equity', fontsize=16)\n",
    "g.other_r.mean().unstack().T.plot.bar(ax=ax[2]); ax[2].set_title('Other Assets ( Excl home and equities )', fontsize=16)\n",
    "g.nfin_r.mean().unstack().T.plot.bar(ax=ax[3]); ax[3].set_title('Non Financial', fontsize=16)\n",
    "fig.suptitle(\"Portion of Assets in Type of Asset, by Race and Income Percentile \", fontsize=20)\n",
    "\n",
    "plt.tight_layout()\n",
    "plt.subplots_adjust(top=0.90)"
   ]
  },
  {
   "cell_type": "code",
   "execution_count": null,
   "metadata": {},
   "outputs": [],
   "source": [
    "t = nh.copy()\n",
    "t['he_nfin_r'] = (t.homeeq+t.equity)/ (t.homeeq+t.equity+t.nfin)\n",
    "g = t[t.nincpctle<95].groupby(['race','nincpctle'])\n",
    "g.homeeq.mean().unstack().T.plot.bar()"
   ]
  },
  {
   "cell_type": "code",
   "execution_count": null,
   "metadata": {},
   "outputs": [],
   "source": [
    "t = nh.copy()\n",
    "t = t[ (t.nincpctle < 90) & (t.homeeq > 0) & (t.gi_sum == 0) & (t.married==2)]\n",
    "g = t[t.nincpctle<95].groupby(['race','nincpctle'])\n",
    "t = g.networth.median().unstack().T\n",
    "t.plot.bar()"
   ]
  },
  {
   "cell_type": "code",
   "execution_count": null,
   "metadata": {},
   "outputs": [],
   "source": [
    "(t.black/t.white).plot.bar()"
   ]
  },
  {
   "cell_type": "code",
   "execution_count": null,
   "metadata": {},
   "outputs": [],
   "source": [
    "t = nh.copy()\n",
    "#t = t[ (t.nincpctle < 90) & (t.homeeq > 0) & (t.gi_sum == 0) & (t.married==2)]\n",
    "g = t[t.nincpctle<95].groupby(['race','nincpctle'])\n",
    "t = g.networth.median().unstack().T\n",
    "\n",
    "(t.black/t.white).plot.bar()"
   ]
  },
  {
   "cell_type": "code",
   "execution_count": null,
   "metadata": {},
   "outputs": [],
   "source": [
    "t = dfs[dfs.age_1 <45].groupby(['nincpctle','race']).any_transfer.mean().unstack() \n",
    "t"
   ]
  },
  {
   "cell_type": "code",
   "execution_count": null,
   "metadata": {},
   "outputs": [],
   "source": [
    "fig, ax = plt.subplots(figsize=(12,8))\n",
    "\n",
    "fig.suptitle('Percentage recieving a Transfer, By Age and Race', fontsize=20)\n",
    "\n",
    "t = (dfs.groupby(['race', 'agecl']).any_transfer.mean()*100).round(0).unstack().T\n",
    "\n",
    "t.plot.bar(ax=ax)\n",
    "plt.gcf().text(0,0, f\"Source: Survey of Consumer Finances, 2016\", fontsize=14) \n",
    "ax.set_xlabel('Age range')\n",
    "ax.set_ylabel('Percentage that have recieved a transfer');\n",
    "\n"
   ]
  },
  {
   "cell_type": "code",
   "execution_count": null,
   "metadata": {},
   "outputs": [],
   "source": []
  }
 ],
 "metadata": {
  "kernelspec": {
   "display_name": "Python 3",
   "language": "python",
   "name": "python3"
  },
  "language_info": {
   "codemirror_mode": {
    "name": "ipython",
    "version": 3
   },
   "file_extension": ".py",
   "mimetype": "text/x-python",
   "name": "python",
   "nbconvert_exporter": "python",
   "pygments_lexer": "ipython3",
   "version": "3.7.6"
  }
 },
 "nbformat": 4,
 "nbformat_minor": 4
}
